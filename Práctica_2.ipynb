{
  "nbformat": 4,
  "nbformat_minor": 0,
  "metadata": {
    "colab": {
      "provenance": []
    },
    "kernelspec": {
      "name": "python3",
      "display_name": "Python 3"
    },
    "language_info": {
      "name": "python"
    }
  },
  "cells": [
    {
      "cell_type": "markdown",
      "source": [
        "Práctica 2. Métricas de evaluación\n",
        "\n",
        "Realizar al menos 5 entrenamientos y luego informa los promedios de accuracy, precision, recall y F1-score, tanto para la clase 0 como para la clase 1."
      ],
      "metadata": {
        "id": "sithxfEKB1Tr"
      }
    },
    {
      "cell_type": "code",
      "source": [
        "from keras.datasets import mnist\n",
        "import numpy as np\n",
        "\n",
        "(x_train, y_train), (x_test, y_test) = mnist.load_data()\n",
        "\n",
        "# Se obtiene una muestra con igual número de: cincos vs no cincos\n",
        "# para el conjunto de entrenamiento y el de test\n",
        "idx_y_train_5 = np.where(y_train == 5)[0]\n",
        "idx_y_train_n5 = np.where(y_train != 5)[0]\n",
        "idx_y_train_n5 = np.random.choice(idx_y_train_n5, idx_y_train_5.shape[0], replace=False)\n",
        "\n",
        "idx_y_train = np.concatenate([idx_y_train_5, idx_y_train_n5])\n",
        "np.random.shuffle(idx_y_train)\n",
        "\n",
        "x_train = x_train[idx_y_train]\n",
        "y_train = y_train[idx_y_train]\n",
        "print(x_train.shape)\n",
        "\n",
        "idx_y_test_5 = np.where(y_test == 5)[0]\n",
        "idx_y_test_n5 = np.where(y_test != 5)[0]\n",
        "idx_y_test_n5 = np.random.choice(idx_y_test_n5, idx_y_test_5.shape[0], replace=False)\n",
        "\n",
        "idx_y_test = np.concatenate([idx_y_test_5, idx_y_test_n5])\n",
        "np.random.shuffle(idx_y_test)\n",
        "\n",
        "x_test = x_test[idx_y_test]\n",
        "y_test = y_test[idx_y_test]\n",
        "print(x_test.shape)\n",
        "\n",
        "y_train_binary = (y_train == 5).astype(int)\n",
        "y_test_binary = (y_test == 5).astype(int)"
      ],
      "metadata": {
        "colab": {
          "base_uri": "https://localhost:8080/"
        },
        "id": "EtnVrChoO80-",
        "outputId": "93387abd-bf04-472d-823b-c54b0b5c469b"
      },
      "execution_count": 1,
      "outputs": [
        {
          "output_type": "stream",
          "name": "stdout",
          "text": [
            "Downloading data from https://storage.googleapis.com/tensorflow/tf-keras-datasets/mnist.npz\n",
            "11490434/11490434 [==============================] - 0s 0us/step\n",
            "(10842, 28, 28)\n",
            "(1784, 28, 28)\n"
          ]
        }
      ]
    },
    {
      "cell_type": "code",
      "source": [
        "from keras.models import Sequential\n",
        "from keras.layers import Flatten, Dense\n",
        "from keras.metrics import F1Score\n",
        "\n",
        "# Se crea un modelo secuencial con dos capas:\n",
        "#Capa de aplanamiento (Flatten) para convertir las imágenes 2D en un vector 1D\n",
        "#Capa densa (Dense) con una sola unidad.\n",
        "model = Sequential([\n",
        "    Flatten(input_shape=(28, 28)),\n",
        "    Dense(1)\n",
        "])\n",
        "\n",
        "print(model.summary()) #Imprimir un resumen del modelo\n",
        "\n",
        "model.compile(loss='binary_crossentropy', metrics=['accuracy']) #Compilar el modelo\n",
        "\n",
        "#Entrenar el modelo en el conjunto de datos de entrenamiento\n",
        "model.fit(x_train, y_train_binary, epochs=4, batch_size=2000, validation_split=0.9)\n",
        "#Durante 4 épocas con lotes de tamaño 2000 y utiliza el 90% de los datos para validación."
      ],
      "metadata": {
        "colab": {
          "base_uri": "https://localhost:8080/"
        },
        "id": "y-n1PMwxPMoC",
        "outputId": "fc0a766a-fad7-411c-bbf5-cb58dc17331d"
      },
      "execution_count": 2,
      "outputs": [
        {
          "output_type": "stream",
          "name": "stdout",
          "text": [
            "Model: \"sequential\"\n",
            "_________________________________________________________________\n",
            " Layer (type)                Output Shape              Param #   \n",
            "=================================================================\n",
            " flatten (Flatten)           (None, 784)               0         \n",
            "                                                                 \n",
            " dense (Dense)               (None, 1)                 785       \n",
            "                                                                 \n",
            "=================================================================\n",
            "Total params: 785 (3.07 KB)\n",
            "Trainable params: 785 (3.07 KB)\n",
            "Non-trainable params: 0 (0.00 Byte)\n",
            "_________________________________________________________________\n",
            "None\n",
            "Epoch 1/4\n",
            "1/1 [==============================] - 2s 2s/step - loss: 7.1374 - accuracy: 0.5341 - val_loss: 7.4297 - val_accuracy: 0.5166\n",
            "Epoch 2/4\n",
            "1/1 [==============================] - 0s 106ms/step - loss: 6.9779 - accuracy: 0.5461 - val_loss: 7.4476 - val_accuracy: 0.5156\n",
            "Epoch 3/4\n",
            "1/1 [==============================] - 0s 81ms/step - loss: 7.0107 - accuracy: 0.5443 - val_loss: 7.4757 - val_accuracy: 0.5148\n",
            "Epoch 4/4\n",
            "1/1 [==============================] - 0s 125ms/step - loss: 7.1107 - accuracy: 0.5369 - val_loss: 7.2983 - val_accuracy: 0.5251\n"
          ]
        },
        {
          "output_type": "execute_result",
          "data": {
            "text/plain": [
              "<keras.src.callbacks.History at 0x7dc9622fd660>"
            ]
          },
          "metadata": {},
          "execution_count": 2
        }
      ]
    },
    {
      "cell_type": "code",
      "source": [
        "from sklearn.metrics import confusion_matrix, \\\n",
        "precision_score, recall_score,f1_score\n",
        "\n",
        "#Utilizar el modelo entrenado para hacer predicciones sobre el conjunto de prueba.\n",
        "y_pred = (model.predict(x_test) >= 0.5).astype(int)[:,0]\n",
        "\n",
        "#Matriz de confusión para analizar el rendimiento del modelo de clasificación\n",
        "conf_matrix = confusion_matrix(y_test_binary, y_pred)\n",
        "print(\"Matriz de confusión:\")\n",
        "print(conf_matrix)\n",
        "\n",
        "# Métricas de evaluación de modelos de clasificación para analizar el rendimiento del modelo en el conjunto de prueba.\n",
        "\n",
        "#Precision, Recall(sensibilidad) y F1-score para la clase 1:\n",
        "precision = precision_score(y_test_binary, y_pred)\n",
        "print(\"Precision_1:\", precision)\n",
        "recall = recall_score(y_test_binary, y_pred)\n",
        "print(\"Recall_1:\", recall)\n",
        "f1_s = f1_score(y_test_binary, y_pred)\n",
        "print(\"F1-score_1:\", f1_s)\n",
        "\n",
        "# Precision, Recall(sensibilidad) y F1-score para la clase 0:\n",
        "precision_0 = precision_score(y_test_binary, y_pred, pos_label=0)\n",
        "print(\"Precision_0:\", precision_0)\n",
        "recall_0 = recall_score(y_test_binary, y_pred, pos_label=0)\n",
        "print(\"Recall_0:\", recall_0)\n",
        "f1_s_0 = f1_score(y_test_binary, y_pred, pos_label=0)\n",
        "print(\"F1-score_0:\", f1_s_0)"
      ],
      "metadata": {
        "colab": {
          "base_uri": "https://localhost:8080/"
        },
        "id": "3QHJmUzyQt7S",
        "outputId": "e719e069-840b-4d02-c152-08530a2976fc"
      },
      "execution_count": 3,
      "outputs": [
        {
          "output_type": "stream",
          "name": "stdout",
          "text": [
            "56/56 [==============================] - 0s 2ms/step\n",
            "Matriz de confusión:\n",
            "[[804  88]\n",
            " [758 134]]\n",
            "Precision_1: 0.6036036036036037\n",
            "Recall_1: 0.15022421524663676\n",
            "F1-score_1: 0.24057450628366248\n",
            "Precision_0: 0.5147247119078106\n",
            "Recall_0: 0.9013452914798207\n",
            "F1-score_0: 0.6552567237163814\n"
          ]
        }
      ]
    },
    {
      "cell_type": "markdown",
      "source": [
        "2. epochs = 20, batchsize = 2000, validation_split = 0.9"
      ],
      "metadata": {
        "id": "h7P3SgNAO273"
      }
    },
    {
      "cell_type": "code",
      "source": [
        "#Entrenar el modelo en el conjunto de datos de entrenamiento\n",
        "model.fit(x_train, y_train_binary, epochs=20, batch_size=2000, validation_split=0.9)\n",
        "#Durante 20 épocas con lotes de tamaño 2000 y utiliza el 90% de los datos para validación\n",
        "\n",
        "y_pred = (model.predict(x_test) >= 0.5).astype(int)[:,0]\n",
        "\n",
        "conf_matrix = confusion_matrix(y_test_binary, y_pred)\n",
        "print(\"Matriz de confusión:\")\n",
        "print(conf_matrix)\n",
        "\n",
        "#Precision, Recall(sensibilidad) y F1-score para la clase 1:\n",
        "precision = precision_score(y_test_binary, y_pred)\n",
        "print(\"Precision_1:\", precision)\n",
        "recall = recall_score(y_test_binary, y_pred)\n",
        "print(\"Recall_1:\", recall)\n",
        "f1_s = f1_score(y_test_binary, y_pred)\n",
        "print(\"F1-score_1:\", f1_s)\n",
        "\n",
        "# Precision, Recall(sensibilidad) y F1-score para la clase 0:\n",
        "precision_0 = precision_score(y_test_binary, y_pred, pos_label=0)\n",
        "print(\"Precision_0:\", precision_0)\n",
        "recall_0 = recall_score(y_test_binary, y_pred, pos_label=0)\n",
        "print(\"Recall_0:\", recall_0)\n",
        "f1_s_0 = f1_score(y_test_binary, y_pred, pos_label=0)\n",
        "print(\"F1-score_0:\", f1_s_0)"
      ],
      "metadata": {
        "id": "b5RXoSB0SpLc",
        "colab": {
          "base_uri": "https://localhost:8080/"
        },
        "outputId": "5e80e374-08f2-4ad0-a7b8-54e3f1138128"
      },
      "execution_count": 4,
      "outputs": [
        {
          "output_type": "stream",
          "name": "stdout",
          "text": [
            "Epoch 1/20\n",
            "1/1 [==============================] - 0s 118ms/step - loss: 6.8807 - accuracy: 0.5526 - val_loss: 7.2444 - val_accuracy: 0.5294\n",
            "Epoch 2/20\n",
            "1/1 [==============================] - 0s 54ms/step - loss: 6.8505 - accuracy: 0.5554 - val_loss: 7.2009 - val_accuracy: 0.5318\n",
            "Epoch 3/20\n",
            "1/1 [==============================] - 0s 56ms/step - loss: 6.7944 - accuracy: 0.5581 - val_loss: 7.0911 - val_accuracy: 0.5386\n",
            "Epoch 4/20\n",
            "1/1 [==============================] - 0s 96ms/step - loss: 6.5820 - accuracy: 0.5720 - val_loss: 6.8871 - val_accuracy: 0.5509\n",
            "Epoch 5/20\n",
            "1/1 [==============================] - 0s 99ms/step - loss: 6.3479 - accuracy: 0.5858 - val_loss: 6.7679 - val_accuracy: 0.5581\n",
            "Epoch 6/20\n",
            "1/1 [==============================] - 0s 56ms/step - loss: 6.4660 - accuracy: 0.5784 - val_loss: 6.7302 - val_accuracy: 0.5606\n",
            "Epoch 7/20\n",
            "1/1 [==============================] - 0s 68ms/step - loss: 6.3176 - accuracy: 0.5876 - val_loss: 6.6805 - val_accuracy: 0.5644\n",
            "Epoch 8/20\n",
            "1/1 [==============================] - 0s 54ms/step - loss: 6.2328 - accuracy: 0.5941 - val_loss: 6.6675 - val_accuracy: 0.5660\n",
            "Epoch 9/20\n",
            "1/1 [==============================] - 0s 57ms/step - loss: 6.2322 - accuracy: 0.5941 - val_loss: 6.6172 - val_accuracy: 0.5678\n",
            "Epoch 10/20\n",
            "1/1 [==============================] - 0s 54ms/step - loss: 6.1772 - accuracy: 0.5959 - val_loss: 6.4386 - val_accuracy: 0.5800\n",
            "Epoch 11/20\n",
            "1/1 [==============================] - 0s 52ms/step - loss: 5.9336 - accuracy: 0.6135 - val_loss: 6.3489 - val_accuracy: 0.5855\n",
            "Epoch 12/20\n",
            "1/1 [==============================] - 0s 55ms/step - loss: 5.8097 - accuracy: 0.6162 - val_loss: 6.2066 - val_accuracy: 0.5959\n",
            "Epoch 13/20\n",
            "1/1 [==============================] - 0s 56ms/step - loss: 5.5993 - accuracy: 0.6319 - val_loss: 6.0048 - val_accuracy: 0.6075\n",
            "Epoch 14/20\n",
            "1/1 [==============================] - 0s 54ms/step - loss: 5.4228 - accuracy: 0.6458 - val_loss: 6.1080 - val_accuracy: 0.6018\n",
            "Epoch 15/20\n",
            "1/1 [==============================] - 0s 58ms/step - loss: 5.5106 - accuracy: 0.6393 - val_loss: 6.0133 - val_accuracy: 0.6073\n",
            "Epoch 16/20\n",
            "1/1 [==============================] - 0s 54ms/step - loss: 5.4465 - accuracy: 0.6448 - val_loss: 6.0060 - val_accuracy: 0.6072\n",
            "Epoch 17/20\n",
            "1/1 [==============================] - 0s 61ms/step - loss: 5.3750 - accuracy: 0.6504 - val_loss: 6.0060 - val_accuracy: 0.6072\n",
            "Epoch 18/20\n",
            "1/1 [==============================] - 0s 53ms/step - loss: 5.3750 - accuracy: 0.6504 - val_loss: 6.0060 - val_accuracy: 0.6072\n",
            "Epoch 19/20\n",
            "1/1 [==============================] - 0s 100ms/step - loss: 5.3750 - accuracy: 0.6504 - val_loss: 6.0060 - val_accuracy: 0.6072\n",
            "Epoch 20/20\n",
            "1/1 [==============================] - 0s 52ms/step - loss: 5.3750 - accuracy: 0.6504 - val_loss: 6.0060 - val_accuracy: 0.6072\n",
            "56/56 [==============================] - 0s 1ms/step\n",
            "Matriz de confusión:\n",
            "[[658 234]\n",
            " [477 415]]\n",
            "Precision_1: 0.6394453004622496\n",
            "Recall_1: 0.46524663677130046\n",
            "F1-score_1: 0.5386112913692408\n",
            "Precision_0: 0.5797356828193833\n",
            "Recall_0: 0.7376681614349776\n",
            "F1-score_0: 0.6492353231376419\n"
          ]
        }
      ]
    },
    {
      "cell_type": "markdown",
      "source": [
        "3. epochs = 4, batchsize = 2, validation_split = 0.9"
      ],
      "metadata": {
        "id": "1eZggQs-Ht0k"
      }
    },
    {
      "cell_type": "code",
      "source": [
        "#Entrenar el modelo en el conjunto de datos de entrenamiento\n",
        "model.fit(x_train, y_train_binary, epochs=4, batch_size=2, validation_split=0.9)\n",
        "#Durante 4 épocas con lotes de tamaño 2 y utiliza el 90% de los datos para validación\n",
        "\n",
        "y_pred = (model.predict(x_test) >= 0.5).astype(int)[:,0]\n",
        "\n",
        "conf_matrix = confusion_matrix(y_test_binary, y_pred)\n",
        "print(\"Matriz de confusión:\")\n",
        "print(conf_matrix)\n",
        "\n",
        "#Precision, Recall(sensibilidad) y F1-score para la clase 1:\n",
        "precision = precision_score(y_test_binary, y_pred)\n",
        "print(\"Precision_1:\", precision)\n",
        "recall = recall_score(y_test_binary, y_pred)\n",
        "print(\"Recall_1:\", recall)\n",
        "f1_s = f1_score(y_test_binary, y_pred)\n",
        "print(\"F1-score_1:\", f1_s)\n",
        "\n",
        "# Precision, Recall(sensibilidad) y F1-score para la clase 0:\n",
        "precision_0 = precision_score(y_test_binary, y_pred, pos_label=0)\n",
        "print(\"Precision_0:\", precision_0)\n",
        "recall_0 = recall_score(y_test_binary, y_pred, pos_label=0)\n",
        "print(\"Recall_0:\", recall_0)\n",
        "f1_s_0 = f1_score(y_test_binary, y_pred, pos_label=0)\n",
        "print(\"F1-score_0:\", f1_s_0)"
      ],
      "metadata": {
        "colab": {
          "base_uri": "https://localhost:8080/"
        },
        "id": "Eb_L8gknUTeJ",
        "outputId": "3a01e047-d52c-460b-e362-022784192145"
      },
      "execution_count": 6,
      "outputs": [
        {
          "output_type": "stream",
          "name": "stdout",
          "text": [
            "Epoch 1/4\n",
            "542/542 [==============================] - 12s 22ms/step - loss: 5.3750 - accuracy: 0.6504 - val_loss: 6.0062 - val_accuracy: 0.6072\n",
            "Epoch 2/4\n",
            "542/542 [==============================] - 12s 21ms/step - loss: 5.3750 - accuracy: 0.6504 - val_loss: 6.0062 - val_accuracy: 0.6072\n",
            "Epoch 3/4\n",
            "542/542 [==============================] - 7s 12ms/step - loss: 5.3750 - accuracy: 0.6504 - val_loss: 6.0062 - val_accuracy: 0.6072\n",
            "Epoch 4/4\n",
            "542/542 [==============================] - 6s 11ms/step - loss: 5.3750 - accuracy: 0.6504 - val_loss: 6.0062 - val_accuracy: 0.6072\n",
            "56/56 [==============================] - 0s 1ms/step\n",
            "Matriz de confusión:\n",
            "[[658 234]\n",
            " [477 415]]\n",
            "Precision_1: 0.6394453004622496\n",
            "Recall_1: 0.46524663677130046\n",
            "F1-score_1: 0.5386112913692408\n",
            "Precision_0: 0.5797356828193833\n",
            "Recall_0: 0.7376681614349776\n",
            "F1-score_0: 0.6492353231376419\n"
          ]
        }
      ]
    },
    {
      "cell_type": "markdown",
      "source": [
        "4. epochs = 4, batchsize = 2000, validation_split = 0.01"
      ],
      "metadata": {
        "id": "jjvOVtQ3Kjcx"
      }
    },
    {
      "cell_type": "code",
      "source": [
        "#Entrenar el modelo en el conjunto de datos de entrenamiento\n",
        "model.fit(x_train, y_train_binary, epochs=4, batch_size=2000, validation_split=0.01)\n",
        "#Durante 4 épocas con lotes de tamaño 2000 y utiliza el 1% de los datos para validación\n",
        "\n",
        "y_pred = (model.predict(x_test) >= 0.5).astype(int)[:,0]\n",
        "\n",
        "conf_matrix = confusion_matrix(y_test_binary, y_pred)\n",
        "print(\"Matriz de confusión:\")\n",
        "print(conf_matrix)\n",
        "\n",
        "#Precision, Recall(sensibilidad) y F1-score para la clase 1:\n",
        "precision = precision_score(y_test_binary, y_pred)\n",
        "print(\"Precision_1:\", precision)\n",
        "recall = recall_score(y_test_binary, y_pred)\n",
        "print(\"Recall_1:\", recall)\n",
        "f1_s = f1_score(y_test_binary, y_pred)\n",
        "print(\"F1-score_1:\", f1_s)\n",
        "\n",
        "# Precision, Recall(sensibilidad) y F1-score para la clase 0:\n",
        "precision_0 = precision_score(y_test_binary, y_pred, pos_label=0)\n",
        "print(\"Precision_0:\", precision_0)\n",
        "recall_0 = recall_score(y_test_binary, y_pred, pos_label=0)\n",
        "print(\"Recall_0:\", recall_0)\n",
        "f1_s_0 = f1_score(y_test_binary, y_pred, pos_label=0)\n",
        "print(\"F1-score_0:\", f1_s_0)"
      ],
      "metadata": {
        "colab": {
          "base_uri": "https://localhost:8080/"
        },
        "id": "4NE4r0ppWCEM",
        "outputId": "cdd08a91-6876-4d2b-b95b-dc652bcd98a5"
      },
      "execution_count": 7,
      "outputs": [
        {
          "output_type": "stream",
          "name": "stdout",
          "text": [
            "Epoch 1/4\n",
            "6/6 [==============================] - 0s 20ms/step - loss: 5.7699 - accuracy: 0.6215 - val_loss: 4.7807 - val_accuracy: 0.6881\n",
            "Epoch 2/4\n",
            "6/6 [==============================] - 0s 11ms/step - loss: 4.8258 - accuracy: 0.6842 - val_loss: 3.8013 - val_accuracy: 0.7523\n",
            "Epoch 3/4\n",
            "6/6 [==============================] - 0s 11ms/step - loss: 4.3743 - accuracy: 0.7134 - val_loss: 3.7933 - val_accuracy: 0.7431\n",
            "Epoch 4/4\n",
            "6/6 [==============================] - 0s 9ms/step - loss: 4.1021 - accuracy: 0.7307 - val_loss: 3.9269 - val_accuracy: 0.7431\n",
            "56/56 [==============================] - 0s 1ms/step\n",
            "Matriz de confusión:\n",
            "[[552 340]\n",
            " [132 760]]\n",
            "Precision_1: 0.6909090909090909\n",
            "Recall_1: 0.852017937219731\n",
            "F1-score_1: 0.7630522088353414\n",
            "Precision_0: 0.8070175438596491\n",
            "Recall_0: 0.6188340807174888\n",
            "F1-score_0: 0.7005076142131981\n"
          ]
        }
      ]
    },
    {
      "cell_type": "markdown",
      "source": [
        "5. Busca una configuración de estos hiperparámetros que optimice las métricas, tu notebook debe tener un entrenamiento con esta configuración."
      ],
      "metadata": {
        "id": "MuQ8mxeRW7JX"
      }
    },
    {
      "cell_type": "code",
      "source": [
        "#Entrenar el modelo en el conjunto de datos de entrenamiento\n",
        "model.fit(x_train, y_train_binary, epochs=4, batch_size=130, validation_split=0.2)\n",
        "\n",
        "y_pred = (model.predict(x_test) >= 0.5).astype(int)[:,0]\n",
        "\n",
        "conf_matrix = confusion_matrix(y_test_binary, y_pred)\n",
        "print(\"Matriz de confusión:\")\n",
        "print(conf_matrix)\n",
        "\n",
        "#Precision, Recall(sensibilidad) y F1-score para la clase 1:\n",
        "precision = precision_score(y_test_binary, y_pred)\n",
        "print(\"Precision_1:\", precision)\n",
        "recall = recall_score(y_test_binary, y_pred)\n",
        "print(\"Recall_1:\", recall)\n",
        "f1_s = f1_score(y_test_binary, y_pred)\n",
        "print(\"F1-score_1:\", f1_s)\n",
        "\n",
        "# Precision, Recall(sensibilidad) y F1-score para la clase 0:\n",
        "precision_0 = precision_score(y_test_binary, y_pred, pos_label=0)\n",
        "print(\"Precision_0:\", precision_0)\n",
        "recall_0 = recall_score(y_test_binary, y_pred, pos_label=0)\n",
        "print(\"Recall_0:\", recall_0)\n",
        "f1_s_0 = f1_score(y_test_binary, y_pred, pos_label=0)\n",
        "print(\"F1-score_0:\", f1_s_0)"
      ],
      "metadata": {
        "colab": {
          "base_uri": "https://localhost:8080/"
        },
        "id": "5Adz4G39WyYQ",
        "outputId": "a11b1833-e5fb-4500-cf7e-d8250a173d16"
      },
      "execution_count": 25,
      "outputs": [
        {
          "output_type": "stream",
          "name": "stdout",
          "text": [
            "Epoch 1/4\n",
            "67/67 [==============================] - 1s 8ms/step - loss: 2.4770 - accuracy: 0.8367 - val_loss: 2.5290 - val_accuracy: 0.8340\n",
            "Epoch 2/4\n",
            "67/67 [==============================] - 0s 3ms/step - loss: 2.3886 - accuracy: 0.8434 - val_loss: 2.5355 - val_accuracy: 0.8331\n",
            "Epoch 3/4\n",
            "67/67 [==============================] - 0s 3ms/step - loss: 2.3239 - accuracy: 0.8471 - val_loss: 2.3591 - val_accuracy: 0.8456\n",
            "Epoch 4/4\n",
            "67/67 [==============================] - 0s 3ms/step - loss: 2.1340 - accuracy: 0.8600 - val_loss: 2.6818 - val_accuracy: 0.8253\n",
            "56/56 [==============================] - 0s 1ms/step\n",
            "Matriz de confusión:\n",
            "[[819  73]\n",
            " [211 681]]\n",
            "Precision_1: 0.903183023872679\n",
            "Recall_1: 0.7634529147982063\n",
            "F1-score_1: 0.8274605103280681\n",
            "Precision_0: 0.7951456310679612\n",
            "Recall_0: 0.9181614349775785\n",
            "F1-score_0: 0.8522372528616026\n"
          ]
        }
      ]
    }
  ]
}