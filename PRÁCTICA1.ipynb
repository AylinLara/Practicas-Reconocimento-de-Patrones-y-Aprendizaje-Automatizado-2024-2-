{
  "nbformat": 4,
  "nbformat_minor": 0,
  "metadata": {
    "colab": {
      "provenance": []
    },
    "kernelspec": {
      "name": "python3",
      "display_name": "Python 3"
    },
    "language_info": {
      "name": "python"
    }
  },
  "cells": [
    {
      "cell_type": "markdown",
      "source": [
        "**Damaris Aylín Lara Bustillos**\n",
        "\n",
        "**Practica 1: Fundamentos en Python**"
      ],
      "metadata": {
        "id": "1tWgAFpZIMZW"
      }
    },
    {
      "cell_type": "code",
      "source": [
        "import pandas as pd #Importamos pandas"
      ],
      "metadata": {
        "id": "5NkbQJ0-IiVJ"
      },
      "execution_count": 2,
      "outputs": []
    },
    {
      "cell_type": "code",
      "source": [
        "# Leer el csv de datos\n",
        "df_datos = pd.read_csv(\"/datos.csv\")\n",
        "df_datos"
      ],
      "metadata": {
        "colab": {
          "base_uri": "https://localhost:8080/",
          "height": 677
        },
        "id": "0iEGBdYyKDbv",
        "outputId": "695ffecb-43e5-4864-e06c-ad154a8eab60"
      },
      "execution_count": 8,
      "outputs": [
        {
          "output_type": "execute_result",
          "data": {
            "text/plain": [
              "              nombre   apellido  horas_dedicadas  calificaciones_obtenida\n",
              "0      Sofía Sánchez  Rodríguez               52                     45.0\n",
              "1        Luis Romero     Romero                2                      NaN\n",
              "2          Juan Díaz      López              170                    100.0\n",
              "3   Miguel Hernández    Álvarez               42                      NaN\n",
              "4      Juan González       Díaz              125                     70.0\n",
              "5        Juan García  Fernández               47                     40.0\n",
              "6        Luis Romero      López              149                    100.0\n",
              "7   Miguel Fernández     Romero              162                     80.0\n",
              "8       Carmen Pérez    Álvarez              139                     45.0\n",
              "9     Juan Rodríguez     Romero               18                     30.0\n",
              "10       Paula Pérez       Díaz               30                      0.0\n",
              "11     Ana Fernández     García              152                    100.0\n",
              "12        Ana García      López               51                      0.0\n",
              "13     Miguel Romero    Sánchez              164                     98.0\n",
              "14    Antonio García      Muñoz               93                     60.0\n",
              "15      Paula Romero    Sánchez              162                    100.0\n",
              "16      Diego Romero       Díaz               55                     40.0\n",
              "17         Ana Pérez  Rodríguez              178                     70.0\n",
              "18       Paula López      Muñoz               97                     80.0\n",
              "19    Carlos Sánchez  Rodríguez              100                     95.0"
            ],
            "text/html": [
              "\n",
              "  <div id=\"df-1fd850e6-276b-4d29-be56-7931ad830166\" class=\"colab-df-container\">\n",
              "    <div>\n",
              "<style scoped>\n",
              "    .dataframe tbody tr th:only-of-type {\n",
              "        vertical-align: middle;\n",
              "    }\n",
              "\n",
              "    .dataframe tbody tr th {\n",
              "        vertical-align: top;\n",
              "    }\n",
              "\n",
              "    .dataframe thead th {\n",
              "        text-align: right;\n",
              "    }\n",
              "</style>\n",
              "<table border=\"1\" class=\"dataframe\">\n",
              "  <thead>\n",
              "    <tr style=\"text-align: right;\">\n",
              "      <th></th>\n",
              "      <th>nombre</th>\n",
              "      <th>apellido</th>\n",
              "      <th>horas_dedicadas</th>\n",
              "      <th>calificaciones_obtenida</th>\n",
              "    </tr>\n",
              "  </thead>\n",
              "  <tbody>\n",
              "    <tr>\n",
              "      <th>0</th>\n",
              "      <td>Sofía Sánchez</td>\n",
              "      <td>Rodríguez</td>\n",
              "      <td>52</td>\n",
              "      <td>45.0</td>\n",
              "    </tr>\n",
              "    <tr>\n",
              "      <th>1</th>\n",
              "      <td>Luis Romero</td>\n",
              "      <td>Romero</td>\n",
              "      <td>2</td>\n",
              "      <td>NaN</td>\n",
              "    </tr>\n",
              "    <tr>\n",
              "      <th>2</th>\n",
              "      <td>Juan Díaz</td>\n",
              "      <td>López</td>\n",
              "      <td>170</td>\n",
              "      <td>100.0</td>\n",
              "    </tr>\n",
              "    <tr>\n",
              "      <th>3</th>\n",
              "      <td>Miguel Hernández</td>\n",
              "      <td>Álvarez</td>\n",
              "      <td>42</td>\n",
              "      <td>NaN</td>\n",
              "    </tr>\n",
              "    <tr>\n",
              "      <th>4</th>\n",
              "      <td>Juan González</td>\n",
              "      <td>Díaz</td>\n",
              "      <td>125</td>\n",
              "      <td>70.0</td>\n",
              "    </tr>\n",
              "    <tr>\n",
              "      <th>5</th>\n",
              "      <td>Juan García</td>\n",
              "      <td>Fernández</td>\n",
              "      <td>47</td>\n",
              "      <td>40.0</td>\n",
              "    </tr>\n",
              "    <tr>\n",
              "      <th>6</th>\n",
              "      <td>Luis Romero</td>\n",
              "      <td>López</td>\n",
              "      <td>149</td>\n",
              "      <td>100.0</td>\n",
              "    </tr>\n",
              "    <tr>\n",
              "      <th>7</th>\n",
              "      <td>Miguel Fernández</td>\n",
              "      <td>Romero</td>\n",
              "      <td>162</td>\n",
              "      <td>80.0</td>\n",
              "    </tr>\n",
              "    <tr>\n",
              "      <th>8</th>\n",
              "      <td>Carmen Pérez</td>\n",
              "      <td>Álvarez</td>\n",
              "      <td>139</td>\n",
              "      <td>45.0</td>\n",
              "    </tr>\n",
              "    <tr>\n",
              "      <th>9</th>\n",
              "      <td>Juan Rodríguez</td>\n",
              "      <td>Romero</td>\n",
              "      <td>18</td>\n",
              "      <td>30.0</td>\n",
              "    </tr>\n",
              "    <tr>\n",
              "      <th>10</th>\n",
              "      <td>Paula Pérez</td>\n",
              "      <td>Díaz</td>\n",
              "      <td>30</td>\n",
              "      <td>0.0</td>\n",
              "    </tr>\n",
              "    <tr>\n",
              "      <th>11</th>\n",
              "      <td>Ana Fernández</td>\n",
              "      <td>García</td>\n",
              "      <td>152</td>\n",
              "      <td>100.0</td>\n",
              "    </tr>\n",
              "    <tr>\n",
              "      <th>12</th>\n",
              "      <td>Ana García</td>\n",
              "      <td>López</td>\n",
              "      <td>51</td>\n",
              "      <td>0.0</td>\n",
              "    </tr>\n",
              "    <tr>\n",
              "      <th>13</th>\n",
              "      <td>Miguel Romero</td>\n",
              "      <td>Sánchez</td>\n",
              "      <td>164</td>\n",
              "      <td>98.0</td>\n",
              "    </tr>\n",
              "    <tr>\n",
              "      <th>14</th>\n",
              "      <td>Antonio García</td>\n",
              "      <td>Muñoz</td>\n",
              "      <td>93</td>\n",
              "      <td>60.0</td>\n",
              "    </tr>\n",
              "    <tr>\n",
              "      <th>15</th>\n",
              "      <td>Paula Romero</td>\n",
              "      <td>Sánchez</td>\n",
              "      <td>162</td>\n",
              "      <td>100.0</td>\n",
              "    </tr>\n",
              "    <tr>\n",
              "      <th>16</th>\n",
              "      <td>Diego Romero</td>\n",
              "      <td>Díaz</td>\n",
              "      <td>55</td>\n",
              "      <td>40.0</td>\n",
              "    </tr>\n",
              "    <tr>\n",
              "      <th>17</th>\n",
              "      <td>Ana Pérez</td>\n",
              "      <td>Rodríguez</td>\n",
              "      <td>178</td>\n",
              "      <td>70.0</td>\n",
              "    </tr>\n",
              "    <tr>\n",
              "      <th>18</th>\n",
              "      <td>Paula López</td>\n",
              "      <td>Muñoz</td>\n",
              "      <td>97</td>\n",
              "      <td>80.0</td>\n",
              "    </tr>\n",
              "    <tr>\n",
              "      <th>19</th>\n",
              "      <td>Carlos Sánchez</td>\n",
              "      <td>Rodríguez</td>\n",
              "      <td>100</td>\n",
              "      <td>95.0</td>\n",
              "    </tr>\n",
              "  </tbody>\n",
              "</table>\n",
              "</div>\n",
              "    <div class=\"colab-df-buttons\">\n",
              "\n",
              "  <div class=\"colab-df-container\">\n",
              "    <button class=\"colab-df-convert\" onclick=\"convertToInteractive('df-1fd850e6-276b-4d29-be56-7931ad830166')\"\n",
              "            title=\"Convert this dataframe to an interactive table.\"\n",
              "            style=\"display:none;\">\n",
              "\n",
              "  <svg xmlns=\"http://www.w3.org/2000/svg\" height=\"24px\" viewBox=\"0 -960 960 960\">\n",
              "    <path d=\"M120-120v-720h720v720H120Zm60-500h600v-160H180v160Zm220 220h160v-160H400v160Zm0 220h160v-160H400v160ZM180-400h160v-160H180v160Zm440 0h160v-160H620v160ZM180-180h160v-160H180v160Zm440 0h160v-160H620v160Z\"/>\n",
              "  </svg>\n",
              "    </button>\n",
              "\n",
              "  <style>\n",
              "    .colab-df-container {\n",
              "      display:flex;\n",
              "      gap: 12px;\n",
              "    }\n",
              "\n",
              "    .colab-df-convert {\n",
              "      background-color: #E8F0FE;\n",
              "      border: none;\n",
              "      border-radius: 50%;\n",
              "      cursor: pointer;\n",
              "      display: none;\n",
              "      fill: #1967D2;\n",
              "      height: 32px;\n",
              "      padding: 0 0 0 0;\n",
              "      width: 32px;\n",
              "    }\n",
              "\n",
              "    .colab-df-convert:hover {\n",
              "      background-color: #E2EBFA;\n",
              "      box-shadow: 0px 1px 2px rgba(60, 64, 67, 0.3), 0px 1px 3px 1px rgba(60, 64, 67, 0.15);\n",
              "      fill: #174EA6;\n",
              "    }\n",
              "\n",
              "    .colab-df-buttons div {\n",
              "      margin-bottom: 4px;\n",
              "    }\n",
              "\n",
              "    [theme=dark] .colab-df-convert {\n",
              "      background-color: #3B4455;\n",
              "      fill: #D2E3FC;\n",
              "    }\n",
              "\n",
              "    [theme=dark] .colab-df-convert:hover {\n",
              "      background-color: #434B5C;\n",
              "      box-shadow: 0px 1px 3px 1px rgba(0, 0, 0, 0.15);\n",
              "      filter: drop-shadow(0px 1px 2px rgba(0, 0, 0, 0.3));\n",
              "      fill: #FFFFFF;\n",
              "    }\n",
              "  </style>\n",
              "\n",
              "    <script>\n",
              "      const buttonEl =\n",
              "        document.querySelector('#df-1fd850e6-276b-4d29-be56-7931ad830166 button.colab-df-convert');\n",
              "      buttonEl.style.display =\n",
              "        google.colab.kernel.accessAllowed ? 'block' : 'none';\n",
              "\n",
              "      async function convertToInteractive(key) {\n",
              "        const element = document.querySelector('#df-1fd850e6-276b-4d29-be56-7931ad830166');\n",
              "        const dataTable =\n",
              "          await google.colab.kernel.invokeFunction('convertToInteractive',\n",
              "                                                    [key], {});\n",
              "        if (!dataTable) return;\n",
              "\n",
              "        const docLinkHtml = 'Like what you see? Visit the ' +\n",
              "          '<a target=\"_blank\" href=https://colab.research.google.com/notebooks/data_table.ipynb>data table notebook</a>'\n",
              "          + ' to learn more about interactive tables.';\n",
              "        element.innerHTML = '';\n",
              "        dataTable['output_type'] = 'display_data';\n",
              "        await google.colab.output.renderOutput(dataTable, element);\n",
              "        const docLink = document.createElement('div');\n",
              "        docLink.innerHTML = docLinkHtml;\n",
              "        element.appendChild(docLink);\n",
              "      }\n",
              "    </script>\n",
              "  </div>\n",
              "\n",
              "\n",
              "<div id=\"df-236aae59-be12-4eb7-85fa-7618321a8523\">\n",
              "  <button class=\"colab-df-quickchart\" onclick=\"quickchart('df-236aae59-be12-4eb7-85fa-7618321a8523')\"\n",
              "            title=\"Suggest charts\"\n",
              "            style=\"display:none;\">\n",
              "\n",
              "<svg xmlns=\"http://www.w3.org/2000/svg\" height=\"24px\"viewBox=\"0 0 24 24\"\n",
              "     width=\"24px\">\n",
              "    <g>\n",
              "        <path d=\"M19 3H5c-1.1 0-2 .9-2 2v14c0 1.1.9 2 2 2h14c1.1 0 2-.9 2-2V5c0-1.1-.9-2-2-2zM9 17H7v-7h2v7zm4 0h-2V7h2v10zm4 0h-2v-4h2v4z\"/>\n",
              "    </g>\n",
              "</svg>\n",
              "  </button>\n",
              "\n",
              "<style>\n",
              "  .colab-df-quickchart {\n",
              "      --bg-color: #E8F0FE;\n",
              "      --fill-color: #1967D2;\n",
              "      --hover-bg-color: #E2EBFA;\n",
              "      --hover-fill-color: #174EA6;\n",
              "      --disabled-fill-color: #AAA;\n",
              "      --disabled-bg-color: #DDD;\n",
              "  }\n",
              "\n",
              "  [theme=dark] .colab-df-quickchart {\n",
              "      --bg-color: #3B4455;\n",
              "      --fill-color: #D2E3FC;\n",
              "      --hover-bg-color: #434B5C;\n",
              "      --hover-fill-color: #FFFFFF;\n",
              "      --disabled-bg-color: #3B4455;\n",
              "      --disabled-fill-color: #666;\n",
              "  }\n",
              "\n",
              "  .colab-df-quickchart {\n",
              "    background-color: var(--bg-color);\n",
              "    border: none;\n",
              "    border-radius: 50%;\n",
              "    cursor: pointer;\n",
              "    display: none;\n",
              "    fill: var(--fill-color);\n",
              "    height: 32px;\n",
              "    padding: 0;\n",
              "    width: 32px;\n",
              "  }\n",
              "\n",
              "  .colab-df-quickchart:hover {\n",
              "    background-color: var(--hover-bg-color);\n",
              "    box-shadow: 0 1px 2px rgba(60, 64, 67, 0.3), 0 1px 3px 1px rgba(60, 64, 67, 0.15);\n",
              "    fill: var(--button-hover-fill-color);\n",
              "  }\n",
              "\n",
              "  .colab-df-quickchart-complete:disabled,\n",
              "  .colab-df-quickchart-complete:disabled:hover {\n",
              "    background-color: var(--disabled-bg-color);\n",
              "    fill: var(--disabled-fill-color);\n",
              "    box-shadow: none;\n",
              "  }\n",
              "\n",
              "  .colab-df-spinner {\n",
              "    border: 2px solid var(--fill-color);\n",
              "    border-color: transparent;\n",
              "    border-bottom-color: var(--fill-color);\n",
              "    animation:\n",
              "      spin 1s steps(1) infinite;\n",
              "  }\n",
              "\n",
              "  @keyframes spin {\n",
              "    0% {\n",
              "      border-color: transparent;\n",
              "      border-bottom-color: var(--fill-color);\n",
              "      border-left-color: var(--fill-color);\n",
              "    }\n",
              "    20% {\n",
              "      border-color: transparent;\n",
              "      border-left-color: var(--fill-color);\n",
              "      border-top-color: var(--fill-color);\n",
              "    }\n",
              "    30% {\n",
              "      border-color: transparent;\n",
              "      border-left-color: var(--fill-color);\n",
              "      border-top-color: var(--fill-color);\n",
              "      border-right-color: var(--fill-color);\n",
              "    }\n",
              "    40% {\n",
              "      border-color: transparent;\n",
              "      border-right-color: var(--fill-color);\n",
              "      border-top-color: var(--fill-color);\n",
              "    }\n",
              "    60% {\n",
              "      border-color: transparent;\n",
              "      border-right-color: var(--fill-color);\n",
              "    }\n",
              "    80% {\n",
              "      border-color: transparent;\n",
              "      border-right-color: var(--fill-color);\n",
              "      border-bottom-color: var(--fill-color);\n",
              "    }\n",
              "    90% {\n",
              "      border-color: transparent;\n",
              "      border-bottom-color: var(--fill-color);\n",
              "    }\n",
              "  }\n",
              "</style>\n",
              "\n",
              "  <script>\n",
              "    async function quickchart(key) {\n",
              "      const quickchartButtonEl =\n",
              "        document.querySelector('#' + key + ' button');\n",
              "      quickchartButtonEl.disabled = true;  // To prevent multiple clicks.\n",
              "      quickchartButtonEl.classList.add('colab-df-spinner');\n",
              "      try {\n",
              "        const charts = await google.colab.kernel.invokeFunction(\n",
              "            'suggestCharts', [key], {});\n",
              "      } catch (error) {\n",
              "        console.error('Error during call to suggestCharts:', error);\n",
              "      }\n",
              "      quickchartButtonEl.classList.remove('colab-df-spinner');\n",
              "      quickchartButtonEl.classList.add('colab-df-quickchart-complete');\n",
              "    }\n",
              "    (() => {\n",
              "      let quickchartButtonEl =\n",
              "        document.querySelector('#df-236aae59-be12-4eb7-85fa-7618321a8523 button');\n",
              "      quickchartButtonEl.style.display =\n",
              "        google.colab.kernel.accessAllowed ? 'block' : 'none';\n",
              "    })();\n",
              "  </script>\n",
              "</div>\n",
              "    </div>\n",
              "  </div>\n"
            ]
          },
          "metadata": {},
          "execution_count": 8
        }
      ]
    },
    {
      "cell_type": "code",
      "source": [
        "#Quitar valores nulos .fillna()\n",
        "df_datos = df_datos.fillna(0)\n",
        "df_datos"
      ],
      "metadata": {
        "colab": {
          "base_uri": "https://localhost:8080/",
          "height": 677
        },
        "id": "1GjRz3UYKfyx",
        "outputId": "fafe99d5-22db-48f3-99af-95574f04f505"
      },
      "execution_count": 9,
      "outputs": [
        {
          "output_type": "execute_result",
          "data": {
            "text/plain": [
              "              nombre   apellido  horas_dedicadas  calificaciones_obtenida\n",
              "0      Sofía Sánchez  Rodríguez               52                     45.0\n",
              "1        Luis Romero     Romero                2                      0.0\n",
              "2          Juan Díaz      López              170                    100.0\n",
              "3   Miguel Hernández    Álvarez               42                      0.0\n",
              "4      Juan González       Díaz              125                     70.0\n",
              "5        Juan García  Fernández               47                     40.0\n",
              "6        Luis Romero      López              149                    100.0\n",
              "7   Miguel Fernández     Romero              162                     80.0\n",
              "8       Carmen Pérez    Álvarez              139                     45.0\n",
              "9     Juan Rodríguez     Romero               18                     30.0\n",
              "10       Paula Pérez       Díaz               30                      0.0\n",
              "11     Ana Fernández     García              152                    100.0\n",
              "12        Ana García      López               51                      0.0\n",
              "13     Miguel Romero    Sánchez              164                     98.0\n",
              "14    Antonio García      Muñoz               93                     60.0\n",
              "15      Paula Romero    Sánchez              162                    100.0\n",
              "16      Diego Romero       Díaz               55                     40.0\n",
              "17         Ana Pérez  Rodríguez              178                     70.0\n",
              "18       Paula López      Muñoz               97                     80.0\n",
              "19    Carlos Sánchez  Rodríguez              100                     95.0"
            ],
            "text/html": [
              "\n",
              "  <div id=\"df-5c55c4f2-af53-4d5d-98d3-77417ea20916\" class=\"colab-df-container\">\n",
              "    <div>\n",
              "<style scoped>\n",
              "    .dataframe tbody tr th:only-of-type {\n",
              "        vertical-align: middle;\n",
              "    }\n",
              "\n",
              "    .dataframe tbody tr th {\n",
              "        vertical-align: top;\n",
              "    }\n",
              "\n",
              "    .dataframe thead th {\n",
              "        text-align: right;\n",
              "    }\n",
              "</style>\n",
              "<table border=\"1\" class=\"dataframe\">\n",
              "  <thead>\n",
              "    <tr style=\"text-align: right;\">\n",
              "      <th></th>\n",
              "      <th>nombre</th>\n",
              "      <th>apellido</th>\n",
              "      <th>horas_dedicadas</th>\n",
              "      <th>calificaciones_obtenida</th>\n",
              "    </tr>\n",
              "  </thead>\n",
              "  <tbody>\n",
              "    <tr>\n",
              "      <th>0</th>\n",
              "      <td>Sofía Sánchez</td>\n",
              "      <td>Rodríguez</td>\n",
              "      <td>52</td>\n",
              "      <td>45.0</td>\n",
              "    </tr>\n",
              "    <tr>\n",
              "      <th>1</th>\n",
              "      <td>Luis Romero</td>\n",
              "      <td>Romero</td>\n",
              "      <td>2</td>\n",
              "      <td>0.0</td>\n",
              "    </tr>\n",
              "    <tr>\n",
              "      <th>2</th>\n",
              "      <td>Juan Díaz</td>\n",
              "      <td>López</td>\n",
              "      <td>170</td>\n",
              "      <td>100.0</td>\n",
              "    </tr>\n",
              "    <tr>\n",
              "      <th>3</th>\n",
              "      <td>Miguel Hernández</td>\n",
              "      <td>Álvarez</td>\n",
              "      <td>42</td>\n",
              "      <td>0.0</td>\n",
              "    </tr>\n",
              "    <tr>\n",
              "      <th>4</th>\n",
              "      <td>Juan González</td>\n",
              "      <td>Díaz</td>\n",
              "      <td>125</td>\n",
              "      <td>70.0</td>\n",
              "    </tr>\n",
              "    <tr>\n",
              "      <th>5</th>\n",
              "      <td>Juan García</td>\n",
              "      <td>Fernández</td>\n",
              "      <td>47</td>\n",
              "      <td>40.0</td>\n",
              "    </tr>\n",
              "    <tr>\n",
              "      <th>6</th>\n",
              "      <td>Luis Romero</td>\n",
              "      <td>López</td>\n",
              "      <td>149</td>\n",
              "      <td>100.0</td>\n",
              "    </tr>\n",
              "    <tr>\n",
              "      <th>7</th>\n",
              "      <td>Miguel Fernández</td>\n",
              "      <td>Romero</td>\n",
              "      <td>162</td>\n",
              "      <td>80.0</td>\n",
              "    </tr>\n",
              "    <tr>\n",
              "      <th>8</th>\n",
              "      <td>Carmen Pérez</td>\n",
              "      <td>Álvarez</td>\n",
              "      <td>139</td>\n",
              "      <td>45.0</td>\n",
              "    </tr>\n",
              "    <tr>\n",
              "      <th>9</th>\n",
              "      <td>Juan Rodríguez</td>\n",
              "      <td>Romero</td>\n",
              "      <td>18</td>\n",
              "      <td>30.0</td>\n",
              "    </tr>\n",
              "    <tr>\n",
              "      <th>10</th>\n",
              "      <td>Paula Pérez</td>\n",
              "      <td>Díaz</td>\n",
              "      <td>30</td>\n",
              "      <td>0.0</td>\n",
              "    </tr>\n",
              "    <tr>\n",
              "      <th>11</th>\n",
              "      <td>Ana Fernández</td>\n",
              "      <td>García</td>\n",
              "      <td>152</td>\n",
              "      <td>100.0</td>\n",
              "    </tr>\n",
              "    <tr>\n",
              "      <th>12</th>\n",
              "      <td>Ana García</td>\n",
              "      <td>López</td>\n",
              "      <td>51</td>\n",
              "      <td>0.0</td>\n",
              "    </tr>\n",
              "    <tr>\n",
              "      <th>13</th>\n",
              "      <td>Miguel Romero</td>\n",
              "      <td>Sánchez</td>\n",
              "      <td>164</td>\n",
              "      <td>98.0</td>\n",
              "    </tr>\n",
              "    <tr>\n",
              "      <th>14</th>\n",
              "      <td>Antonio García</td>\n",
              "      <td>Muñoz</td>\n",
              "      <td>93</td>\n",
              "      <td>60.0</td>\n",
              "    </tr>\n",
              "    <tr>\n",
              "      <th>15</th>\n",
              "      <td>Paula Romero</td>\n",
              "      <td>Sánchez</td>\n",
              "      <td>162</td>\n",
              "      <td>100.0</td>\n",
              "    </tr>\n",
              "    <tr>\n",
              "      <th>16</th>\n",
              "      <td>Diego Romero</td>\n",
              "      <td>Díaz</td>\n",
              "      <td>55</td>\n",
              "      <td>40.0</td>\n",
              "    </tr>\n",
              "    <tr>\n",
              "      <th>17</th>\n",
              "      <td>Ana Pérez</td>\n",
              "      <td>Rodríguez</td>\n",
              "      <td>178</td>\n",
              "      <td>70.0</td>\n",
              "    </tr>\n",
              "    <tr>\n",
              "      <th>18</th>\n",
              "      <td>Paula López</td>\n",
              "      <td>Muñoz</td>\n",
              "      <td>97</td>\n",
              "      <td>80.0</td>\n",
              "    </tr>\n",
              "    <tr>\n",
              "      <th>19</th>\n",
              "      <td>Carlos Sánchez</td>\n",
              "      <td>Rodríguez</td>\n",
              "      <td>100</td>\n",
              "      <td>95.0</td>\n",
              "    </tr>\n",
              "  </tbody>\n",
              "</table>\n",
              "</div>\n",
              "    <div class=\"colab-df-buttons\">\n",
              "\n",
              "  <div class=\"colab-df-container\">\n",
              "    <button class=\"colab-df-convert\" onclick=\"convertToInteractive('df-5c55c4f2-af53-4d5d-98d3-77417ea20916')\"\n",
              "            title=\"Convert this dataframe to an interactive table.\"\n",
              "            style=\"display:none;\">\n",
              "\n",
              "  <svg xmlns=\"http://www.w3.org/2000/svg\" height=\"24px\" viewBox=\"0 -960 960 960\">\n",
              "    <path d=\"M120-120v-720h720v720H120Zm60-500h600v-160H180v160Zm220 220h160v-160H400v160Zm0 220h160v-160H400v160ZM180-400h160v-160H180v160Zm440 0h160v-160H620v160ZM180-180h160v-160H180v160Zm440 0h160v-160H620v160Z\"/>\n",
              "  </svg>\n",
              "    </button>\n",
              "\n",
              "  <style>\n",
              "    .colab-df-container {\n",
              "      display:flex;\n",
              "      gap: 12px;\n",
              "    }\n",
              "\n",
              "    .colab-df-convert {\n",
              "      background-color: #E8F0FE;\n",
              "      border: none;\n",
              "      border-radius: 50%;\n",
              "      cursor: pointer;\n",
              "      display: none;\n",
              "      fill: #1967D2;\n",
              "      height: 32px;\n",
              "      padding: 0 0 0 0;\n",
              "      width: 32px;\n",
              "    }\n",
              "\n",
              "    .colab-df-convert:hover {\n",
              "      background-color: #E2EBFA;\n",
              "      box-shadow: 0px 1px 2px rgba(60, 64, 67, 0.3), 0px 1px 3px 1px rgba(60, 64, 67, 0.15);\n",
              "      fill: #174EA6;\n",
              "    }\n",
              "\n",
              "    .colab-df-buttons div {\n",
              "      margin-bottom: 4px;\n",
              "    }\n",
              "\n",
              "    [theme=dark] .colab-df-convert {\n",
              "      background-color: #3B4455;\n",
              "      fill: #D2E3FC;\n",
              "    }\n",
              "\n",
              "    [theme=dark] .colab-df-convert:hover {\n",
              "      background-color: #434B5C;\n",
              "      box-shadow: 0px 1px 3px 1px rgba(0, 0, 0, 0.15);\n",
              "      filter: drop-shadow(0px 1px 2px rgba(0, 0, 0, 0.3));\n",
              "      fill: #FFFFFF;\n",
              "    }\n",
              "  </style>\n",
              "\n",
              "    <script>\n",
              "      const buttonEl =\n",
              "        document.querySelector('#df-5c55c4f2-af53-4d5d-98d3-77417ea20916 button.colab-df-convert');\n",
              "      buttonEl.style.display =\n",
              "        google.colab.kernel.accessAllowed ? 'block' : 'none';\n",
              "\n",
              "      async function convertToInteractive(key) {\n",
              "        const element = document.querySelector('#df-5c55c4f2-af53-4d5d-98d3-77417ea20916');\n",
              "        const dataTable =\n",
              "          await google.colab.kernel.invokeFunction('convertToInteractive',\n",
              "                                                    [key], {});\n",
              "        if (!dataTable) return;\n",
              "\n",
              "        const docLinkHtml = 'Like what you see? Visit the ' +\n",
              "          '<a target=\"_blank\" href=https://colab.research.google.com/notebooks/data_table.ipynb>data table notebook</a>'\n",
              "          + ' to learn more about interactive tables.';\n",
              "        element.innerHTML = '';\n",
              "        dataTable['output_type'] = 'display_data';\n",
              "        await google.colab.output.renderOutput(dataTable, element);\n",
              "        const docLink = document.createElement('div');\n",
              "        docLink.innerHTML = docLinkHtml;\n",
              "        element.appendChild(docLink);\n",
              "      }\n",
              "    </script>\n",
              "  </div>\n",
              "\n",
              "\n",
              "<div id=\"df-292f7974-e231-4773-ac9a-073965cf13e9\">\n",
              "  <button class=\"colab-df-quickchart\" onclick=\"quickchart('df-292f7974-e231-4773-ac9a-073965cf13e9')\"\n",
              "            title=\"Suggest charts\"\n",
              "            style=\"display:none;\">\n",
              "\n",
              "<svg xmlns=\"http://www.w3.org/2000/svg\" height=\"24px\"viewBox=\"0 0 24 24\"\n",
              "     width=\"24px\">\n",
              "    <g>\n",
              "        <path d=\"M19 3H5c-1.1 0-2 .9-2 2v14c0 1.1.9 2 2 2h14c1.1 0 2-.9 2-2V5c0-1.1-.9-2-2-2zM9 17H7v-7h2v7zm4 0h-2V7h2v10zm4 0h-2v-4h2v4z\"/>\n",
              "    </g>\n",
              "</svg>\n",
              "  </button>\n",
              "\n",
              "<style>\n",
              "  .colab-df-quickchart {\n",
              "      --bg-color: #E8F0FE;\n",
              "      --fill-color: #1967D2;\n",
              "      --hover-bg-color: #E2EBFA;\n",
              "      --hover-fill-color: #174EA6;\n",
              "      --disabled-fill-color: #AAA;\n",
              "      --disabled-bg-color: #DDD;\n",
              "  }\n",
              "\n",
              "  [theme=dark] .colab-df-quickchart {\n",
              "      --bg-color: #3B4455;\n",
              "      --fill-color: #D2E3FC;\n",
              "      --hover-bg-color: #434B5C;\n",
              "      --hover-fill-color: #FFFFFF;\n",
              "      --disabled-bg-color: #3B4455;\n",
              "      --disabled-fill-color: #666;\n",
              "  }\n",
              "\n",
              "  .colab-df-quickchart {\n",
              "    background-color: var(--bg-color);\n",
              "    border: none;\n",
              "    border-radius: 50%;\n",
              "    cursor: pointer;\n",
              "    display: none;\n",
              "    fill: var(--fill-color);\n",
              "    height: 32px;\n",
              "    padding: 0;\n",
              "    width: 32px;\n",
              "  }\n",
              "\n",
              "  .colab-df-quickchart:hover {\n",
              "    background-color: var(--hover-bg-color);\n",
              "    box-shadow: 0 1px 2px rgba(60, 64, 67, 0.3), 0 1px 3px 1px rgba(60, 64, 67, 0.15);\n",
              "    fill: var(--button-hover-fill-color);\n",
              "  }\n",
              "\n",
              "  .colab-df-quickchart-complete:disabled,\n",
              "  .colab-df-quickchart-complete:disabled:hover {\n",
              "    background-color: var(--disabled-bg-color);\n",
              "    fill: var(--disabled-fill-color);\n",
              "    box-shadow: none;\n",
              "  }\n",
              "\n",
              "  .colab-df-spinner {\n",
              "    border: 2px solid var(--fill-color);\n",
              "    border-color: transparent;\n",
              "    border-bottom-color: var(--fill-color);\n",
              "    animation:\n",
              "      spin 1s steps(1) infinite;\n",
              "  }\n",
              "\n",
              "  @keyframes spin {\n",
              "    0% {\n",
              "      border-color: transparent;\n",
              "      border-bottom-color: var(--fill-color);\n",
              "      border-left-color: var(--fill-color);\n",
              "    }\n",
              "    20% {\n",
              "      border-color: transparent;\n",
              "      border-left-color: var(--fill-color);\n",
              "      border-top-color: var(--fill-color);\n",
              "    }\n",
              "    30% {\n",
              "      border-color: transparent;\n",
              "      border-left-color: var(--fill-color);\n",
              "      border-top-color: var(--fill-color);\n",
              "      border-right-color: var(--fill-color);\n",
              "    }\n",
              "    40% {\n",
              "      border-color: transparent;\n",
              "      border-right-color: var(--fill-color);\n",
              "      border-top-color: var(--fill-color);\n",
              "    }\n",
              "    60% {\n",
              "      border-color: transparent;\n",
              "      border-right-color: var(--fill-color);\n",
              "    }\n",
              "    80% {\n",
              "      border-color: transparent;\n",
              "      border-right-color: var(--fill-color);\n",
              "      border-bottom-color: var(--fill-color);\n",
              "    }\n",
              "    90% {\n",
              "      border-color: transparent;\n",
              "      border-bottom-color: var(--fill-color);\n",
              "    }\n",
              "  }\n",
              "</style>\n",
              "\n",
              "  <script>\n",
              "    async function quickchart(key) {\n",
              "      const quickchartButtonEl =\n",
              "        document.querySelector('#' + key + ' button');\n",
              "      quickchartButtonEl.disabled = true;  // To prevent multiple clicks.\n",
              "      quickchartButtonEl.classList.add('colab-df-spinner');\n",
              "      try {\n",
              "        const charts = await google.colab.kernel.invokeFunction(\n",
              "            'suggestCharts', [key], {});\n",
              "      } catch (error) {\n",
              "        console.error('Error during call to suggestCharts:', error);\n",
              "      }\n",
              "      quickchartButtonEl.classList.remove('colab-df-spinner');\n",
              "      quickchartButtonEl.classList.add('colab-df-quickchart-complete');\n",
              "    }\n",
              "    (() => {\n",
              "      let quickchartButtonEl =\n",
              "        document.querySelector('#df-292f7974-e231-4773-ac9a-073965cf13e9 button');\n",
              "      quickchartButtonEl.style.display =\n",
              "        google.colab.kernel.accessAllowed ? 'block' : 'none';\n",
              "    })();\n",
              "  </script>\n",
              "</div>\n",
              "    </div>\n",
              "  </div>\n"
            ]
          },
          "metadata": {},
          "execution_count": 9
        }
      ]
    },
    {
      "cell_type": "markdown",
      "source": [
        "Encontrar el mínimo, máximo, media y desviación estándar tanto para el número de horas dedicadas como para las calificaciones obtenidas."
      ],
      "metadata": {
        "id": "wKJdqYycNybz"
      }
    },
    {
      "cell_type": "code",
      "source": [
        "#Encontramos el mínimo\n",
        "min_horas = df_datos['horas_dedicadas'].min()\n",
        "min_calif = df_datos['calificaciones_obtenida'].min()\n",
        "\n",
        "print(f'Mínimo del número de horas dedicadas: {min_horas}')\n",
        "print(f'Mínimo de todas las calificaciones obtenidas: {min_calif}')"
      ],
      "metadata": {
        "colab": {
          "base_uri": "https://localhost:8080/"
        },
        "id": "UK03v0X3N4AL",
        "outputId": "437b4854-fab5-4db7-8391-33053087d086"
      },
      "execution_count": 18,
      "outputs": [
        {
          "output_type": "stream",
          "name": "stdout",
          "text": [
            "Mínimo del número de horas dedicadas: 2\n",
            "Mínimo de todas las calificaciones obtenidas: 0.0\n"
          ]
        }
      ]
    },
    {
      "cell_type": "code",
      "source": [
        "#Encontramos el máximo\n",
        "max_horas = df_datos['horas_dedicadas'].max()\n",
        "max_calif = df_datos['calificaciones_obtenida'].max()\n",
        "\n",
        "print(f'Máximo del número de horas dedicadas: {max_horas}')\n",
        "print(f'Máximo de todas las calificaciones obtenidas: {max_calif}')"
      ],
      "metadata": {
        "colab": {
          "base_uri": "https://localhost:8080/"
        },
        "id": "txEf3IBCPWPx",
        "outputId": "61901549-ddc8-441c-81fa-f70475223d81"
      },
      "execution_count": 19,
      "outputs": [
        {
          "output_type": "stream",
          "name": "stdout",
          "text": [
            "Máximo del número de horas dedicadas: 178\n",
            "Máximo de todas las calificaciones obtenidas: 100.0\n"
          ]
        }
      ]
    },
    {
      "cell_type": "code",
      "source": [
        "#Encontramos el media\n",
        "media_horas = df_datos['horas_dedicadas'].mean()\n",
        "media_calif = df_datos['calificaciones_obtenida'].mean()\n",
        "\n",
        "print(f'Media del número de horas dedicadas: {media_horas}')\n",
        "print(f'Media de todas las calificaciones obtenidas: {media_calif}')"
      ],
      "metadata": {
        "colab": {
          "base_uri": "https://localhost:8080/"
        },
        "id": "9_pHGLqCb1AP",
        "outputId": "ea8e93b7-2605-4e08-a16a-79c0f9d4a0f6"
      },
      "execution_count": 20,
      "outputs": [
        {
          "output_type": "stream",
          "name": "stdout",
          "text": [
            "La media del número de horas dedicadas: 99.4\n",
            "La media de todas las calificaciones obtenidas: 57.65\n"
          ]
        }
      ]
    },
    {
      "cell_type": "code",
      "source": [
        "#Encontramos la desviación estándar\n",
        "desv_horas = df_datos['horas_dedicadas'].std()\n",
        "desv_calif = df_datos['calificaciones_obtenida'].std()\n",
        "\n",
        "print(f'Desviación estándar del número de horas dedicadas: {desv_horas}')\n",
        "print(f'Desviación estándar de todas las calificaciones obtenidas: {desv_calif}')"
      ],
      "metadata": {
        "colab": {
          "base_uri": "https://localhost:8080/"
        },
        "id": "_40LVLgxcHVP",
        "outputId": "906e5061-62e6-4c72-e707-73a87f4aeb32"
      },
      "execution_count": 22,
      "outputs": [
        {
          "output_type": "stream",
          "name": "stdout",
          "text": [
            "Desviación estándar del número de horas dedicadas: 58.129075974801204\n",
            "Desviación estándar de todas las calificaciones obtenidas: 37.35219996339256\n"
          ]
        }
      ]
    },
    {
      "cell_type": "markdown",
      "source": [
        "Lleva a cabo un análisis de regresión lineal utilizando estos datos y presenta un gráfico que muestre el modelo de regresión junto con los datos originales."
      ],
      "metadata": {
        "id": "O2v94AIcc8xa"
      }
    },
    {
      "cell_type": "code",
      "source": [
        "from sklearn.linear_model import LinearRegression\n",
        "import numpy as np"
      ],
      "metadata": {
        "id": "jJGFRqYIdDEX"
      },
      "execution_count": 25,
      "outputs": []
    },
    {
      "cell_type": "code",
      "source": [
        "horas = np.array(df_datos['horas_dedicadas'])\n",
        "print(horas)\n",
        "calificaciones = np.array(df_datos['calificaciones_obtenida'])\n",
        "calificaciones"
      ],
      "metadata": {
        "colab": {
          "base_uri": "https://localhost:8080/"
        },
        "id": "m5cYx-bLeQm8",
        "outputId": "c3c82865-2dd4-49d1-89dd-d8e3d8ff58bf"
      },
      "execution_count": 26,
      "outputs": [
        {
          "output_type": "stream",
          "name": "stdout",
          "text": [
            "[ 52   2 170  42 125  47 149 162 139  18  30 152  51 164  93 162  55 178\n",
            "  97 100]\n"
          ]
        },
        {
          "output_type": "execute_result",
          "data": {
            "text/plain": [
              "array([ 45.,   0., 100.,   0.,  70.,  40., 100.,  80.,  45.,  30.,   0.,\n",
              "       100.,   0.,  98.,  60., 100.,  40.,  70.,  80.,  95.])"
            ]
          },
          "metadata": {},
          "execution_count": 26
        }
      ]
    },
    {
      "cell_type": "code",
      "source": [
        "#Aplicar reshape() al array de horas dedicadas para transponerlo\n",
        "horas = horas.reshape(-1,1)\n",
        "horas"
      ],
      "metadata": {
        "colab": {
          "base_uri": "https://localhost:8080/"
        },
        "id": "nHbEZv0Lg0tr",
        "outputId": "567d1e32-13c6-4f20-8b78-8d5ede6514c4"
      },
      "execution_count": 27,
      "outputs": [
        {
          "output_type": "execute_result",
          "data": {
            "text/plain": [
              "array([[ 52],\n",
              "       [  2],\n",
              "       [170],\n",
              "       [ 42],\n",
              "       [125],\n",
              "       [ 47],\n",
              "       [149],\n",
              "       [162],\n",
              "       [139],\n",
              "       [ 18],\n",
              "       [ 30],\n",
              "       [152],\n",
              "       [ 51],\n",
              "       [164],\n",
              "       [ 93],\n",
              "       [162],\n",
              "       [ 55],\n",
              "       [178],\n",
              "       [ 97],\n",
              "       [100]])"
            ]
          },
          "metadata": {},
          "execution_count": 27
        }
      ]
    },
    {
      "cell_type": "code",
      "source": [
        "# Crear el modelo de regresión lineal\n",
        "modelo = LinearRegression()\n",
        "\n",
        "# Entrenar el modelo con los datos\n",
        "modelo.fit(horas,calificaciones)\n",
        "\n",
        "# Predicciones\n",
        "pred_calif = modelo.predict(horas)"
      ],
      "metadata": {
        "id": "dIWU-Xb4ezlB"
      },
      "execution_count": 48,
      "outputs": []
    },
    {
      "cell_type": "code",
      "source": [
        "import matplotlib.pyplot as plt\n",
        "# Graficar los datos y la línea de regresión\n",
        "plt.scatter(horas, calificaciones, color='green')\n",
        "plt.plot(horas, modelo.predict(horas), color='pink')\n",
        "plt.title('Regresión Lineal: Calificación vs Horas dedicadas a la materia')\n",
        "plt.xlabel('Horas dedicadas')\n",
        "plt.ylabel('Calificación')\n",
        "plt.show()"
      ],
      "metadata": {
        "colab": {
          "base_uri": "https://localhost:8080/",
          "height": 472
        },
        "id": "87v_OjS6k6yI",
        "outputId": "49023bfa-1e13-4e2a-9713-30a9931ced00"
      },
      "execution_count": 49,
      "outputs": [
        {
          "output_type": "display_data",
          "data": {
            "text/plain": [
              "<Figure size 640x480 with 1 Axes>"
            ],
            "image/png": "[encoded data removed]"
          },
          "metadata": {}
        }
      ]
    },
    {
      "cell_type": "markdown",
      "source": [
        "Utiliza el modelo de regresión para realizar una predicción de la calificación\n",
        "de un estudiante que hubiera dedicado n horas en el semestre a la materia\n",
        "(donde n es la suma de los dígitos de su ńumero de cuenta módulo 50)."
      ],
      "metadata": {
        "id": "jiPyAJE9nb60"
      }
    },
    {
      "cell_type": "code",
      "source": [
        "numero_de_cuenta = 317009608 #Cambiar por un número de cuenta en especifico\n",
        "n_horas = sum(int(digit) for digit in str(numero_de_cuenta)) % 50\n",
        "\n",
        "# Predicción para el estudiante específico\n",
        "calificacion_predicha = modelo.predict([[n_horas]])\n",
        "print(f'Calificación predicha para el estudiante: {calificacion_predicha[0]}')\n"
      ],
      "metadata": {
        "colab": {
          "base_uri": "https://localhost:8080/"
        },
        "id": "9nw55apeiMSB",
        "outputId": "5ace4c3e-e08d-4fb0-d5e0-3075c6c7e2fb"
      },
      "execution_count": 50,
      "outputs": [
        {
          "output_type": "stream",
          "name": "stdout",
          "text": [
            "Calificación predicha para el estudiante: 22.0076478797772\n"
          ]
        }
      ]
    },
    {
      "cell_type": "markdown",
      "source": [
        "Investiga métodos para evaluar la bondad de ajuste de tu modelo y determinar cúan efectivamente explica el comportamiento de los datos."
      ],
      "metadata": {
        "id": "wgtCJQ1xsYUp"
      }
    },
    {
      "cell_type": "markdown",
      "source": [
        "Error Cuadrático Medio (MSE) y Raíz del Error Cuadrático Medio (RMSE):\n",
        "\n",
        "El MSE mide la media de los errores al cuadrado entre las predicciones y los valores reales. Una versión comúnmente utilizada es la raíz cuadrada del MSE, conocida como RMSE, que tiene la misma escala que la variable de respuesta original.\n",
        "\n",
        "Cuanto menor sea el valor del MSE, mejor será el ajuste del modelo a los datos. Un MSE de 0 indica que el modelo predice perfectamente los valores observados, aunque en la práctica, un MSE de 0 es raro y puede indicar un sobreajuste del modelo.\n",
        "\n",
        "Al igual que el MSE, el RMSE puede tener un rango desde 0 hasta infinito. Un valor de RMSE más bajo indica un mejor ajuste del modelo a los datos. Un RMSE de 0 significa que no hay errores en las predicciones, pero este caso es raro en la práctica."
      ],
      "metadata": {
        "id": "m95MMek8sedB"
      }
    },
    {
      "cell_type": "code",
      "source": [
        "from sklearn.metrics import mean_squared_error\n",
        "\n",
        "mse = mean_squared_error(calificaciones,pred_calif)\n",
        "print(f'mse:{mse}')\n",
        "rmse = np.sqrt(mse)\n",
        "print(f'rmse:{rmse}')"
      ],
      "metadata": {
        "colab": {
          "base_uri": "https://localhost:8080/"
        },
        "id": "e3YJHaeUssK1",
        "outputId": "89a1fca3-dcc9-4810-ae05-6323d2b58145"
      },
      "execution_count": 60,
      "outputs": [
        {
          "output_type": "stream",
          "name": "stdout",
          "text": [
            "mse:372.0000306849759\n",
            "rmse:19.287302317456838\n"
          ]
        }
      ]
    },
    {
      "cell_type": "markdown",
      "source": [
        "Coeficiente de Determinación (R^2):\n",
        "\n",
        "El coeficiente de determinación, R^2, proporciona una medida de la proporción de la variabilidad en la variable dependiente que es explicada por el modelo. R^2 varía entre 0 y 1, donde 1 indica un ajuste perfecto."
      ],
      "metadata": {
        "id": "1JNd6UfdwhsN"
      }
    },
    {
      "cell_type": "code",
      "source": [
        "from sklearn.metrics import r2_score\n",
        "\n",
        "r2 = r2_score(calificaciones, pred_calif)\n",
        "r2"
      ],
      "metadata": {
        "colab": {
          "base_uri": "https://localhost:8080/"
        },
        "id": "4HWsI8F-wnHd",
        "outputId": "467e19f6-697d-4a6e-ca19-c8960984d3e9"
      },
      "execution_count": 56,
      "outputs": [
        {
          "output_type": "execute_result",
          "data": {
            "text/plain": [
              "0.7193358137770824"
            ]
          },
          "metadata": {},
          "execution_count": 56
        }
      ]
    },
    {
      "cell_type": "markdown",
      "source": [
        "Gráficos Residuales:\n",
        "\n",
        "Examina gráficamente los residuos (diferencia entre los valores reales y las predicciones). Un gráfico de residuos puede ayudar a identificar patrones sistemáticos en los errores.\n",
        "\n",
        "En general, los residuos deben centrarse alrededor de cero. Si hay un sesgo sistemático, los residuos podrían tener una media diferente de cero."
      ],
      "metadata": {
        "id": "r_N_0oRfxCT3"
      }
    },
    {
      "cell_type": "code",
      "source": [
        "import matplotlib.pyplot as plt\n",
        "\n",
        "residuos = calificaciones - pred_calif\n",
        "plt.scatter(pred_calif, residuos)\n",
        "plt.xlabel('Predicciones')\n",
        "plt.ylabel('Residuos')\n",
        "plt.axhline(y=0, color='r', linestyle='--', linewidth=2)\n",
        "plt.show()\n"
      ],
      "metadata": {
        "colab": {
          "base_uri": "https://localhost:8080/",
          "height": 452
        },
        "id": "JMCnSqvBxD0_",
        "outputId": "2ea3ea84-0970-45dd-e293-00e35db47d4b"
      },
      "execution_count": 57,
      "outputs": [
        {
          "output_type": "display_data",
          "data": {
            "text/plain": [
              "<Figure size 640x480 with 1 Axes>"
            ],
            "image/png": "[encoded data removed]"
          },
          "metadata": {}
        }
      ]
    },
    {
      "cell_type": "markdown",
      "source": [
        "En conclusión podemos decir que el modelo de regresión lineal no se ajusta bien a los datos. Vemos que las diferencias entre los valores observados y los valores de predicción del modelo son grandes, además hay un comportamiento inusual en los residuos que puede indicar deficiencias en el modelo."
      ],
      "metadata": {
        "id": "CBRwm7-r2qPP"
      }
    }
  ]
}